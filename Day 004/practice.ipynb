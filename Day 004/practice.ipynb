{
 "cells": [
  {
   "cell_type": "markdown",
   "metadata": {},
   "source": [
    "# Class \n",
    "- variables(Attributes) \n",
    "- methods(functions)"
   ]
  },
  {
   "cell_type": "code",
   "execution_count": 8,
   "metadata": {},
   "outputs": [
    {
     "name": "stdout",
     "output_type": "stream",
     "text": [
      "{'age': 22, 'loacation': 'kanpur'}\n",
      "Nilesh Tamboli\n",
      "22\n",
      "Calling from Student class \n"
     ]
    }
   ],
   "source": [
    "class Student:\n",
    "  name = \"Nilesh Tamboli\"\n",
    "  \n",
    "  def info(self):\n",
    "    print(\"Calling from Student class \")\n",
    "    \n",
    "obj = Student()\n",
    "obj.age = 22\n",
    "obj.loacation = \"kanpur\"\n",
    "\n",
    "print(obj.__dict__)\n",
    "print(obj.name)\n",
    "print(obj.age)\n",
    "obj.info()"
   ]
  },
  {
   "cell_type": "code",
   "execution_count": 9,
   "metadata": {},
   "outputs": [
    {
     "data": {
      "text/plain": [
       "{'age': 22, 'loacation': 'kanpur'}"
      ]
     },
     "execution_count": 9,
     "metadata": {},
     "output_type": "execute_result"
    }
   ],
   "source": [
    "obj.__dict__"
   ]
  },
  {
   "cell_type": "markdown",
   "metadata": {},
   "source": [
    "# Creating an empty class\n",
    "- using pass keyword"
   ]
  },
  {
   "cell_type": "code",
   "execution_count": null,
   "metadata": {},
   "outputs": [],
   "source": [
    "class School:\n",
    "  pass\n",
    "\n",
    "obj = School()\n"
   ]
  },
  {
   "cell_type": "markdown",
   "metadata": {},
   "source": [
    "Assigning variable in empty class"
   ]
  },
  {
   "cell_type": "code",
   "execution_count": 10,
   "metadata": {},
   "outputs": [
    {
     "name": "stdout",
     "output_type": "stream",
     "text": [
      "{'Name': 'Sandeep'}\n",
      "{'Name': 'Sandeep', 'age': 21}\n"
     ]
    }
   ],
   "source": [
    "class Students:\n",
    "  pass\n",
    "\n",
    "obj = Students()\n",
    "obj.Name = \"Sandeep\"\n",
    "print(obj.__dict__)\n",
    "obj.age = 21\n",
    "\n",
    "print(obj.__dict__)\n",
    "\n"
   ]
  },
  {
   "cell_type": "markdown",
   "metadata": {},
   "source": [
    "- when class is empty we can only assign variables and at run time a dictionary will be created"
   ]
  },
  {
   "cell_type": "markdown",
   "metadata": {},
   "source": [
    "# Need of creating a class \n",
    "- variable (value)\n",
    "- function (value)\n",
    "- class => object (variable + Function)"
   ]
  },
  {
   "cell_type": "markdown",
   "metadata": {},
   "source": [
    "# Constructor"
   ]
  },
  {
   "cell_type": "code",
   "execution_count": 19,
   "metadata": {},
   "outputs": [
    {
     "name": "stdout",
     "output_type": "stream",
     "text": [
      "Calling from constructor\n",
      "nilesh 23\n"
     ]
    }
   ],
   "source": [
    "class Students:\n",
    "  def __init__(self):\n",
    "    self.name = \"nilesh\"\n",
    "    self.age = 23\n",
    "    self.location = \"Chittor\"\n",
    "    print(\"Calling from constructor\")\n",
    "  \n",
    "  def info(self):\n",
    "    print(\"Calling from info!\")\n",
    "\n",
    "obj1 = Students()\n",
    "print(obj1.name, obj1.age)"
   ]
  },
  {
   "cell_type": "code",
   "execution_count": 18,
   "metadata": {},
   "outputs": [
    {
     "name": "stdout",
     "output_type": "stream",
     "text": [
      "calling from constructor\n",
      "adfjakdf\n"
     ]
    }
   ],
   "source": [
    "class Students:\n",
    "\n",
    "    def __init__(self, name, age, location):\n",
    "        self.name = name\n",
    "        self.age = age\n",
    "        self.location = location\n",
    "        print(\"calling from constructor\")\n",
    "\n",
    "    def info(self):\n",
    "        print(\"adfjakdf\")\n",
    "\n",
    "\n",
    "obj1 = Students(\"ram\", 21, \"india\")\n",
    "obj1.info()\n",
    "# obj1 = Students()\n",
    "\n",
    "# print(obj1.name)"
   ]
  },
  {
   "cell_type": "markdown",
   "metadata": {},
   "source": [
    "- self = variable or function will denote class\n",
    "- self.name(parameter) = name(argument)\n",
    "- self = we can write anything in this"
   ]
  },
  {
   "cell_type": "markdown",
   "metadata": {},
   "source": [
    "# Three properties of object\n",
    "- 1. object can have variables\n",
    "- 2. object can have methods\n",
    "- 3. two same attribute object have different unique id"
   ]
  },
  {
   "cell_type": "code",
   "execution_count": 20,
   "metadata": {},
   "outputs": [
    {
     "name": "stdout",
     "output_type": "stream",
     "text": [
      "2151670376128\n",
      "2151670929488\n"
     ]
    }
   ],
   "source": [
    "class Students:\n",
    "\n",
    "    def __init__(self, name, age, location):\n",
    "        self.name = name\n",
    "        self.age = age\n",
    "        self.location = location\n",
    "        # print(\"calling from constructor\")\n",
    "\n",
    "    def info(self):\n",
    "        print(\"adfjakdf\")\n",
    "\n",
    "\n",
    "# two object will always have different id\n",
    "\n",
    "obj1 = Students(\"jp\", 21, \"Ajmer\")\n",
    "obj2 = Students(\"jp\", 21, \"Ajmer\")\n",
    "\n",
    "\n",
    "print(id(obj1))\n",
    "print(id(obj2))"
   ]
  },
  {
   "cell_type": "markdown",
   "metadata": {},
   "source": [
    "# There are two typees of variables in python class \n",
    "- instance variable (variables which are inside the constructor)\n",
    "- static variable(class variable) - outside of a constructor"
   ]
  },
  {
   "cell_type": "code",
   "execution_count": 25,
   "metadata": {},
   "outputs": [
    {
     "name": "stdout",
     "output_type": "stream",
     "text": [
      "calling from constructor\n",
      "{'name': 'ramesh', 'age': 34, 'location': 'akola'}\n",
      "Hello\n"
     ]
    }
   ],
   "source": [
    "class Students:\n",
    "  x = 10\n",
    "  y = 20\n",
    "  lang = \"Python\" #(Static variables)\n",
    "  \n",
    "  def __init__(self, name, age, location):\n",
    "    self.name = name\n",
    "    self.age = age\n",
    "    self.location = location #(instance variables)\n",
    "    print(\"calling from constructor\")\n",
    "    \n",
    "  def info(self):\n",
    "    print(\"Hello\")    \n",
    "    \n",
    "obj = Students(\"ramesh\", 34, \"akola\")\n",
    "print(obj.__dict__)\n",
    "obj.info()"
   ]
  },
  {
   "cell_type": "markdown",
   "metadata": {},
   "source": [
    "# Inheritance and types\n",
    "- Inheritance is a mechanism in which one class can inherit the properties and methods of another class.\n",
    "- parent class(gives the properties and methods)\n",
    "- child class(inherits the properties and methods from the parent \n",
    "class)\n"
   ]
  },
  {
   "cell_type": "code",
   "execution_count": 27,
   "metadata": {},
   "outputs": [
    {
     "name": "stdout",
     "output_type": "stream",
     "text": [
      "calling from constructor\n",
      "Name: nt, Age: 22, Location: chittor, lang: python\n"
     ]
    }
   ],
   "source": [
    "# Single level\n",
    "\n",
    "class Students:\n",
    "  lang = \"python\"\n",
    "  \n",
    "  def __init__(self, name, age, location):\n",
    "    self.name = name\n",
    "    self.age = age\n",
    "    self.location = location\n",
    "    print(\"calling from constructor\")\n",
    "    \n",
    "  def info(self, lang):\n",
    "      print(f\"Name: {self.name}, Age: {self.age}, Location: {self.location}, lang: {self.lang}\")\n",
    "      \n",
    "      \n",
    "class Person(Students):\n",
    "  def nt(self):\n",
    "    print(\"calling from person class\")\n",
    "    \n",
    "obj = Person(\"nt\", 22, \"chittor\")\n",
    "obj.info(\"python\")"
   ]
  },
  {
   "cell_type": "markdown",
   "metadata": {},
   "source": [
    "# Types of inheritance\n",
    "- single level\n",
    "- multi level\n",
    "- multiple\n",
    "- hierarchical\n",
    "- hybrid"
   ]
  },
  {
   "cell_type": "markdown",
   "metadata": {},
   "source": [
    "# Single level \n",
    "- A -> B  "
   ]
  },
  {
   "cell_type": "markdown",
   "metadata": {},
   "source": [
    "# Multilevel\n",
    "- A\n",
    "- B\n",
    "- C\n",
    "- A to B to c"
   ]
  },
  {
   "cell_type": "markdown",
   "metadata": {},
   "source": [
    "# Multiple\n",
    "- A to B and C"
   ]
  },
  {
   "cell_type": "markdown",
   "metadata": {},
   "source": [
    "# Hierarchical\n",
    "- Tree like structure\n",
    "- Each node has a value and a list of children\n",
    "- Each node has a parent, except the root node\n",
    "\n",
    "# Hybrid\n",
    "- Combination of different type of inheritance\n",
    "- It is used when we want to inherit properties from multiple classes\n"
   ]
  },
  {
   "cell_type": "markdown",
   "metadata": {},
   "source": [
    "# Overloading a constructor\n"
   ]
  },
  {
   "cell_type": "code",
   "execution_count": 28,
   "metadata": {},
   "outputs": [
    {
     "name": "stdout",
     "output_type": "stream",
     "text": [
      "some random text\n"
     ]
    }
   ],
   "source": [
    "class Students:\n",
    "  def __init__(self, name, age, location):\n",
    "        self.name = name\n",
    "        self.age = age\n",
    "        self.location = location\n",
    "        print(\"calling from constructor\")\n",
    "\n",
    "  def info(self):\n",
    "        print(f\"some random text\")\n",
    "        \n",
    "class Person(Students):\n",
    "  \n",
    "  def __init__(self, lang):\n",
    "    self.lang = lang\n",
    "    \n",
    "  def jp(self):\n",
    "    print(\"calling from person class\")\n",
    "\n",
    "obj = Person(\"python\")\n",
    "obj.info()"
   ]
  },
  {
   "cell_type": "code",
   "execution_count": 29,
   "metadata": {},
   "outputs": [
    {
     "name": "stdout",
     "output_type": "stream",
     "text": [
      "Method A\n",
      "Method C\n"
     ]
    }
   ],
   "source": [
    "class A:\n",
    "    def method(self):\n",
    "        print(\"Method A\")\n",
    "\n",
    "class B:\n",
    "    def method(self):\n",
    "        print(\"Method B\")\n",
    "\n",
    "class C(A, B):\n",
    "    def method(self):\n",
    "        super().method()\n",
    "        #Here we kept in mind that all the methods to be called in proper sequence\n",
    "        # and hence does not break the mro(Method Resolution Order)\n",
    "        print(\"Method C\")\n",
    "\n",
    "c = C()\n",
    "c.method()\n",
    "# Output:\n",
    "# Method A\n",
    "# Method C"
   ]
  },
  {
   "cell_type": "markdown",
   "metadata": {},
   "source": [
    "# Method Overriding\n",
    "- Method overriding is used when utlizing the same function for same parameters with different data types."
   ]
  },
  {
   "cell_type": "code",
   "execution_count": null,
   "metadata": {},
   "outputs": [],
   "source": []
  }
 ],
 "metadata": {
  "kernelspec": {
   "display_name": "base",
   "language": "python",
   "name": "python3"
  },
  "language_info": {
   "codemirror_mode": {
    "name": "ipython",
    "version": 3
   },
   "file_extension": ".py",
   "mimetype": "text/x-python",
   "name": "python",
   "nbconvert_exporter": "python",
   "pygments_lexer": "ipython3",
   "version": "3.12.3"
  }
 },
 "nbformat": 4,
 "nbformat_minor": 2
}
